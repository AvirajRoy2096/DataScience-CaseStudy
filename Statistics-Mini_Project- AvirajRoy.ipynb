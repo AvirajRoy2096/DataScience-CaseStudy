{
 "cells": [
  {
   "cell_type": "code",
   "execution_count": 3,
   "metadata": {},
   "outputs": [],
   "source": [
    "import numpy as np\n",
    "import pandas as pd\n",
    "import seaborn as sns\n",
    "import matplotlib.pyplot as plt\n",
    "import scipy.stats as stats\n",
    "import scipy\n"
   ]
  },
  {
   "cell_type": "markdown",
   "metadata": {},
   "source": [
    "### Importing Laliga Dataset & reading it"
   ]
  },
  {
   "cell_type": "code",
   "execution_count": 4,
   "metadata": {},
   "outputs": [
    {
     "data": {
      "text/html": [
       "<div>\n",
       "<style scoped>\n",
       "    .dataframe tbody tr th:only-of-type {\n",
       "        vertical-align: middle;\n",
       "    }\n",
       "\n",
       "    .dataframe tbody tr th {\n",
       "        vertical-align: top;\n",
       "    }\n",
       "\n",
       "    .dataframe thead th {\n",
       "        text-align: right;\n",
       "    }\n",
       "</style>\n",
       "<table border=\"1\" class=\"dataframe\">\n",
       "  <thead>\n",
       "    <tr style=\"text-align: right;\">\n",
       "      <th></th>\n",
       "      <th>Unnamed: 0</th>\n",
       "      <th>Unnamed: 1</th>\n",
       "      <th>Unnamed: 2</th>\n",
       "      <th>Unnamed: 3</th>\n",
       "      <th>Unnamed: 4</th>\n",
       "      <th>Unnamed: 5</th>\n",
       "      <th>Unnamed: 6</th>\n",
       "      <th>Unnamed: 7</th>\n",
       "      <th>Unnamed: 8</th>\n",
       "      <th>Unnamed: 9</th>\n",
       "      <th>Unnamed: 10</th>\n",
       "      <th>Unnamed: 11</th>\n",
       "      <th>Unnamed: 12</th>\n",
       "      <th>Unnamed: 13</th>\n",
       "      <th>Unnamed: 14</th>\n",
       "      <th>Unnamed: 15</th>\n",
       "      <th>Unnamed: 16</th>\n",
       "      <th>Unnamed: 17</th>\n",
       "      <th>Unnamed: 18</th>\n",
       "      <th>Unnamed: 19</th>\n",
       "    </tr>\n",
       "  </thead>\n",
       "  <tbody>\n",
       "    <tr>\n",
       "      <td>0</td>\n",
       "      <td>Pos</td>\n",
       "      <td>Team</td>\n",
       "      <td>Seasons</td>\n",
       "      <td>Points</td>\n",
       "      <td>GamesPlayed</td>\n",
       "      <td>GamesWon</td>\n",
       "      <td>GamesDrawn</td>\n",
       "      <td>GamesLost</td>\n",
       "      <td>GoalsFor</td>\n",
       "      <td>GoalsAgainst</td>\n",
       "      <td>Champion</td>\n",
       "      <td>Runner-up</td>\n",
       "      <td>Third</td>\n",
       "      <td>Fourth</td>\n",
       "      <td>Fifth</td>\n",
       "      <td>Sixth</td>\n",
       "      <td>T</td>\n",
       "      <td>Debut</td>\n",
       "      <td>Since/LastApp</td>\n",
       "      <td>BestPosition</td>\n",
       "    </tr>\n",
       "    <tr>\n",
       "      <td>1</td>\n",
       "      <td>1</td>\n",
       "      <td>Real Madrid</td>\n",
       "      <td>86</td>\n",
       "      <td>4385</td>\n",
       "      <td>2762</td>\n",
       "      <td>1647</td>\n",
       "      <td>552</td>\n",
       "      <td>563</td>\n",
       "      <td>5947</td>\n",
       "      <td>3140</td>\n",
       "      <td>33</td>\n",
       "      <td>23</td>\n",
       "      <td>8</td>\n",
       "      <td>8</td>\n",
       "      <td>3</td>\n",
       "      <td>4</td>\n",
       "      <td>79</td>\n",
       "      <td>1929</td>\n",
       "      <td>1929</td>\n",
       "      <td>1</td>\n",
       "    </tr>\n",
       "    <tr>\n",
       "      <td>2</td>\n",
       "      <td>2</td>\n",
       "      <td>Barcelona</td>\n",
       "      <td>86</td>\n",
       "      <td>4262</td>\n",
       "      <td>2762</td>\n",
       "      <td>1581</td>\n",
       "      <td>573</td>\n",
       "      <td>608</td>\n",
       "      <td>5900</td>\n",
       "      <td>3114</td>\n",
       "      <td>25</td>\n",
       "      <td>25</td>\n",
       "      <td>12</td>\n",
       "      <td>12</td>\n",
       "      <td>4</td>\n",
       "      <td>6</td>\n",
       "      <td>83</td>\n",
       "      <td>1929</td>\n",
       "      <td>1929</td>\n",
       "      <td>1</td>\n",
       "    </tr>\n",
       "    <tr>\n",
       "      <td>3</td>\n",
       "      <td>3</td>\n",
       "      <td>Atletico Madrid</td>\n",
       "      <td>80</td>\n",
       "      <td>3442</td>\n",
       "      <td>2614</td>\n",
       "      <td>1241</td>\n",
       "      <td>598</td>\n",
       "      <td>775</td>\n",
       "      <td>4534</td>\n",
       "      <td>3309</td>\n",
       "      <td>10</td>\n",
       "      <td>8</td>\n",
       "      <td>16</td>\n",
       "      <td>9</td>\n",
       "      <td>7</td>\n",
       "      <td>6</td>\n",
       "      <td>56</td>\n",
       "      <td>1929</td>\n",
       "      <td>2002-03</td>\n",
       "      <td>1</td>\n",
       "    </tr>\n",
       "    <tr>\n",
       "      <td>4</td>\n",
       "      <td>4</td>\n",
       "      <td>Valencia</td>\n",
       "      <td>82</td>\n",
       "      <td>3386</td>\n",
       "      <td>2664</td>\n",
       "      <td>1187</td>\n",
       "      <td>616</td>\n",
       "      <td>861</td>\n",
       "      <td>4398</td>\n",
       "      <td>3469</td>\n",
       "      <td>6</td>\n",
       "      <td>6</td>\n",
       "      <td>10</td>\n",
       "      <td>11</td>\n",
       "      <td>10</td>\n",
       "      <td>7</td>\n",
       "      <td>50</td>\n",
       "      <td>1931-32</td>\n",
       "      <td>1987-88</td>\n",
       "      <td>1</td>\n",
       "    </tr>\n",
       "  </tbody>\n",
       "</table>\n",
       "</div>"
      ],
      "text/plain": [
       "  Unnamed: 0       Unnamed: 1 Unnamed: 2 Unnamed: 3   Unnamed: 4 Unnamed: 5  \\\n",
       "0        Pos             Team    Seasons     Points  GamesPlayed   GamesWon   \n",
       "1          1      Real Madrid         86       4385         2762       1647   \n",
       "2          2        Barcelona         86       4262         2762       1581   \n",
       "3          3  Atletico Madrid         80       3442         2614       1241   \n",
       "4          4         Valencia         82       3386         2664       1187   \n",
       "\n",
       "   Unnamed: 6 Unnamed: 7 Unnamed: 8    Unnamed: 9 Unnamed: 10 Unnamed: 11  \\\n",
       "0  GamesDrawn  GamesLost   GoalsFor  GoalsAgainst    Champion   Runner-up   \n",
       "1         552        563       5947          3140          33          23   \n",
       "2         573        608       5900          3114          25          25   \n",
       "3         598        775       4534          3309          10           8   \n",
       "4         616        861       4398          3469           6           6   \n",
       "\n",
       "  Unnamed: 12 Unnamed: 13 Unnamed: 14 Unnamed: 15 Unnamed: 16 Unnamed: 17  \\\n",
       "0       Third      Fourth       Fifth       Sixth           T       Debut   \n",
       "1           8           8           3           4          79        1929   \n",
       "2          12          12           4           6          83        1929   \n",
       "3          16           9           7           6          56        1929   \n",
       "4          10          11          10           7          50     1931-32   \n",
       "\n",
       "     Unnamed: 18   Unnamed: 19  \n",
       "0  Since/LastApp  BestPosition  \n",
       "1           1929             1  \n",
       "2           1929             1  \n",
       "3        2002-03             1  \n",
       "4        1987-88             1  "
      ]
     },
     "execution_count": 4,
     "metadata": {},
     "output_type": "execute_result"
    }
   ],
   "source": [
    "Laliga=pd.read_csv('C:\\\\Users\\\\AVIRAJ\\\\Downloads\\\\Laliga.csv')\n",
    "Laliga.head()"
   ]
  },
  {
   "cell_type": "markdown",
   "metadata": {},
   "source": [
    "### Importing Golf Dataset & reading it"
   ]
  },
  {
   "cell_type": "code",
   "execution_count": 5,
   "metadata": {},
   "outputs": [
    {
     "data": {
      "text/html": [
       "<div>\n",
       "<style scoped>\n",
       "    .dataframe tbody tr th:only-of-type {\n",
       "        vertical-align: middle;\n",
       "    }\n",
       "\n",
       "    .dataframe tbody tr th {\n",
       "        vertical-align: top;\n",
       "    }\n",
       "\n",
       "    .dataframe thead th {\n",
       "        text-align: right;\n",
       "    }\n",
       "</style>\n",
       "<table border=\"1\" class=\"dataframe\">\n",
       "  <thead>\n",
       "    <tr style=\"text-align: right;\">\n",
       "      <th></th>\n",
       "      <th>Current</th>\n",
       "      <th>New</th>\n",
       "    </tr>\n",
       "  </thead>\n",
       "  <tbody>\n",
       "    <tr>\n",
       "      <td>0</td>\n",
       "      <td>264</td>\n",
       "      <td>277</td>\n",
       "    </tr>\n",
       "    <tr>\n",
       "      <td>1</td>\n",
       "      <td>261</td>\n",
       "      <td>269</td>\n",
       "    </tr>\n",
       "    <tr>\n",
       "      <td>2</td>\n",
       "      <td>267</td>\n",
       "      <td>263</td>\n",
       "    </tr>\n",
       "    <tr>\n",
       "      <td>3</td>\n",
       "      <td>272</td>\n",
       "      <td>266</td>\n",
       "    </tr>\n",
       "    <tr>\n",
       "      <td>4</td>\n",
       "      <td>258</td>\n",
       "      <td>262</td>\n",
       "    </tr>\n",
       "  </tbody>\n",
       "</table>\n",
       "</div>"
      ],
      "text/plain": [
       "   Current  New\n",
       "0      264  277\n",
       "1      261  269\n",
       "2      267  263\n",
       "3      272  266\n",
       "4      258  262"
      ]
     },
     "execution_count": 5,
     "metadata": {},
     "output_type": "execute_result"
    }
   ],
   "source": [
    "Golf=pd.read_csv('C:\\\\Users\\\\AVIRAJ\\\\Downloads\\\\Golf.csv')\n",
    "Golf.head()"
   ]
  },
  {
   "cell_type": "markdown",
   "metadata": {},
   "source": [
    "## Ques1"
   ]
  },
  {
   "cell_type": "markdown",
   "metadata": {},
   "source": [
    "1. You were recently hired as a business analyst in a top sports company. The senior management team has asked you to come up with metrics with which they can gauge which team will win the upcoming La Liga cup (Football tournament). The given data set contains information on all the teams that have so far participated in all the past tournaments. It has data about how many goals each team scored, conceded; how many times they came within the first 6 positions, how many seasons they have qualified, their best position in the past, etc. You are required to do the following:\n",
    "\n",
    "Before doing any analysis it would be a good idea to check for any hypens or other symbols the data set and make appropriate replacements to make sure you can perform arithmetic operations on the data. Prepare a short report to answer the following questions:\n",
    "1.\tWhich are the teams which started playing between 1930-1980?\n",
    "2.\tWhich are the top 5 teams in terms of points?\n",
    "3.\tWhat is the distribution of the winning percentage for all teams? Which teams are in the top 5 in terms of winning percentage? (Winning percentage= (GamesWon / GamesPlayed)*100)\n",
    "4.\tIs there a significant difference in the winning percentage for teams which have attained a best position between 1-3 and those teams which have had a best position between 4-7.\n",
    "\n"
   ]
  },
  {
   "cell_type": "markdown",
   "metadata": {},
   "source": [
    "### Replacing  the column names  with the 1st row"
   ]
  },
  {
   "cell_type": "code",
   "execution_count": 6,
   "metadata": {},
   "outputs": [],
   "source": [
    "\n",
    "new_header=Laliga.iloc[0]\n",
    "Laliga=Laliga[1:]\n",
    "Laliga.columns=new_header"
   ]
  },
  {
   "cell_type": "code",
   "execution_count": 7,
   "metadata": {},
   "outputs": [
    {
     "data": {
      "text/html": [
       "<div>\n",
       "<style scoped>\n",
       "    .dataframe tbody tr th:only-of-type {\n",
       "        vertical-align: middle;\n",
       "    }\n",
       "\n",
       "    .dataframe tbody tr th {\n",
       "        vertical-align: top;\n",
       "    }\n",
       "\n",
       "    .dataframe thead th {\n",
       "        text-align: right;\n",
       "    }\n",
       "</style>\n",
       "<table border=\"1\" class=\"dataframe\">\n",
       "  <thead>\n",
       "    <tr style=\"text-align: right;\">\n",
       "      <th></th>\n",
       "      <th>Pos</th>\n",
       "      <th>Team</th>\n",
       "      <th>Seasons</th>\n",
       "      <th>Points</th>\n",
       "      <th>GamesPlayed</th>\n",
       "      <th>GamesWon</th>\n",
       "      <th>GamesDrawn</th>\n",
       "      <th>GamesLost</th>\n",
       "      <th>GoalsFor</th>\n",
       "      <th>GoalsAgainst</th>\n",
       "      <th>Champion</th>\n",
       "      <th>Runner-up</th>\n",
       "      <th>Third</th>\n",
       "      <th>Fourth</th>\n",
       "      <th>Fifth</th>\n",
       "      <th>Sixth</th>\n",
       "      <th>T</th>\n",
       "      <th>Debut</th>\n",
       "      <th>Since/LastApp</th>\n",
       "      <th>BestPosition</th>\n",
       "    </tr>\n",
       "  </thead>\n",
       "  <tbody>\n",
       "    <tr>\n",
       "      <td>1</td>\n",
       "      <td>1</td>\n",
       "      <td>Real Madrid</td>\n",
       "      <td>86</td>\n",
       "      <td>4385</td>\n",
       "      <td>2762</td>\n",
       "      <td>1647</td>\n",
       "      <td>552</td>\n",
       "      <td>563</td>\n",
       "      <td>5947</td>\n",
       "      <td>3140</td>\n",
       "      <td>33</td>\n",
       "      <td>23</td>\n",
       "      <td>8</td>\n",
       "      <td>8</td>\n",
       "      <td>3</td>\n",
       "      <td>4</td>\n",
       "      <td>79</td>\n",
       "      <td>1929</td>\n",
       "      <td>1929</td>\n",
       "      <td>1</td>\n",
       "    </tr>\n",
       "    <tr>\n",
       "      <td>2</td>\n",
       "      <td>2</td>\n",
       "      <td>Barcelona</td>\n",
       "      <td>86</td>\n",
       "      <td>4262</td>\n",
       "      <td>2762</td>\n",
       "      <td>1581</td>\n",
       "      <td>573</td>\n",
       "      <td>608</td>\n",
       "      <td>5900</td>\n",
       "      <td>3114</td>\n",
       "      <td>25</td>\n",
       "      <td>25</td>\n",
       "      <td>12</td>\n",
       "      <td>12</td>\n",
       "      <td>4</td>\n",
       "      <td>6</td>\n",
       "      <td>83</td>\n",
       "      <td>1929</td>\n",
       "      <td>1929</td>\n",
       "      <td>1</td>\n",
       "    </tr>\n",
       "    <tr>\n",
       "      <td>3</td>\n",
       "      <td>3</td>\n",
       "      <td>Atletico Madrid</td>\n",
       "      <td>80</td>\n",
       "      <td>3442</td>\n",
       "      <td>2614</td>\n",
       "      <td>1241</td>\n",
       "      <td>598</td>\n",
       "      <td>775</td>\n",
       "      <td>4534</td>\n",
       "      <td>3309</td>\n",
       "      <td>10</td>\n",
       "      <td>8</td>\n",
       "      <td>16</td>\n",
       "      <td>9</td>\n",
       "      <td>7</td>\n",
       "      <td>6</td>\n",
       "      <td>56</td>\n",
       "      <td>1929</td>\n",
       "      <td>2002-03</td>\n",
       "      <td>1</td>\n",
       "    </tr>\n",
       "    <tr>\n",
       "      <td>4</td>\n",
       "      <td>4</td>\n",
       "      <td>Valencia</td>\n",
       "      <td>82</td>\n",
       "      <td>3386</td>\n",
       "      <td>2664</td>\n",
       "      <td>1187</td>\n",
       "      <td>616</td>\n",
       "      <td>861</td>\n",
       "      <td>4398</td>\n",
       "      <td>3469</td>\n",
       "      <td>6</td>\n",
       "      <td>6</td>\n",
       "      <td>10</td>\n",
       "      <td>11</td>\n",
       "      <td>10</td>\n",
       "      <td>7</td>\n",
       "      <td>50</td>\n",
       "      <td>1931-32</td>\n",
       "      <td>1987-88</td>\n",
       "      <td>1</td>\n",
       "    </tr>\n",
       "    <tr>\n",
       "      <td>5</td>\n",
       "      <td>5</td>\n",
       "      <td>Athletic Bilbao</td>\n",
       "      <td>86</td>\n",
       "      <td>3368</td>\n",
       "      <td>2762</td>\n",
       "      <td>1209</td>\n",
       "      <td>633</td>\n",
       "      <td>920</td>\n",
       "      <td>4631</td>\n",
       "      <td>3700</td>\n",
       "      <td>8</td>\n",
       "      <td>7</td>\n",
       "      <td>10</td>\n",
       "      <td>5</td>\n",
       "      <td>8</td>\n",
       "      <td>10</td>\n",
       "      <td>49</td>\n",
       "      <td>1929</td>\n",
       "      <td>1929</td>\n",
       "      <td>1</td>\n",
       "    </tr>\n",
       "  </tbody>\n",
       "</table>\n",
       "</div>"
      ],
      "text/plain": [
       "0 Pos             Team Seasons Points GamesPlayed GamesWon GamesDrawn  \\\n",
       "1   1      Real Madrid      86   4385        2762     1647        552   \n",
       "2   2        Barcelona      86   4262        2762     1581        573   \n",
       "3   3  Atletico Madrid      80   3442        2614     1241        598   \n",
       "4   4         Valencia      82   3386        2664     1187        616   \n",
       "5   5  Athletic Bilbao      86   3368        2762     1209        633   \n",
       "\n",
       "0 GamesLost GoalsFor GoalsAgainst Champion Runner-up Third Fourth Fifth Sixth  \\\n",
       "1       563     5947         3140       33        23     8      8     3     4   \n",
       "2       608     5900         3114       25        25    12     12     4     6   \n",
       "3       775     4534         3309       10         8    16      9     7     6   \n",
       "4       861     4398         3469        6         6    10     11    10     7   \n",
       "5       920     4631         3700        8         7    10      5     8    10   \n",
       "\n",
       "0   T    Debut Since/LastApp BestPosition  \n",
       "1  79     1929          1929            1  \n",
       "2  83     1929          1929            1  \n",
       "3  56     1929       2002-03            1  \n",
       "4  50  1931-32       1987-88            1  \n",
       "5  49     1929          1929            1  "
      ]
     },
     "execution_count": 7,
     "metadata": {},
     "output_type": "execute_result"
    }
   ],
   "source": [
    "Laliga.head()"
   ]
  },
  {
   "cell_type": "code",
   "execution_count": 8,
   "metadata": {},
   "outputs": [
    {
     "name": "stdout",
     "output_type": "stream",
     "text": [
      "<class 'pandas.core.frame.DataFrame'>\n",
      "RangeIndex: 61 entries, 1 to 61\n",
      "Data columns (total 20 columns):\n",
      "Pos              61 non-null object\n",
      "Team             61 non-null object\n",
      "Seasons          61 non-null object\n",
      "Points           61 non-null object\n",
      "GamesPlayed      61 non-null object\n",
      "GamesWon         61 non-null object\n",
      "GamesDrawn       61 non-null object\n",
      "GamesLost        61 non-null object\n",
      "GoalsFor         61 non-null object\n",
      "GoalsAgainst     61 non-null object\n",
      "Champion         61 non-null object\n",
      "Runner-up        61 non-null object\n",
      "Third            61 non-null object\n",
      "Fourth           61 non-null object\n",
      "Fifth            61 non-null object\n",
      "Sixth            61 non-null object\n",
      "T                61 non-null object\n",
      "Debut            61 non-null object\n",
      "Since/LastApp    61 non-null object\n",
      "BestPosition     61 non-null object\n",
      "dtypes: object(20)\n",
      "memory usage: 9.7+ KB\n"
     ]
    }
   ],
   "source": [
    "Laliga.info()"
   ]
  },
  {
   "cell_type": "code",
   "execution_count": null,
   "metadata": {},
   "outputs": [],
   "source": []
  },
  {
   "cell_type": "markdown",
   "metadata": {},
   "source": [
    "### Checking Values to verify occurence of Unwanted symbols"
   ]
  },
  {
   "cell_type": "code",
   "execution_count": 9,
   "metadata": {},
   "outputs": [
    {
     "name": "stdout",
     "output_type": "stream",
     "text": [
      "Pos\n",
      "['1' '2' '3' '4' '5' '6' '7' '8' '9' '10' '11' '12' '13' '14' '15' '16'\n",
      " '17' '18' '19' '20' '21' '22' '23' '24' '25' '26' '27' '28' '29' '30'\n",
      " '31' '32' '33' '34' '35' '36' '37' '38' '39' '40' '41' '42' '43' '44'\n",
      " '45' '46' '47' '48' '49' '50' '51' '52' '53' '54' '55' '56' '57' '58'\n",
      " '59' '60' '61']\n",
      "Team\n",
      "['Real Madrid' 'Barcelona' 'Atletico Madrid' 'Valencia' 'Athletic Bilbao'\n",
      " 'Sevilla' 'Espanyol' 'Real Sociedad' 'Zaragoza' 'Real Betis'\n",
      " 'Deportivo La Coruna' 'Celta Vigo' 'Valladolid' 'Racing Santander'\n",
      " 'Sporting Gijon' 'Osasuna' 'Malaga' 'Oviedo' 'Mallorca' 'Las Palmas'\n",
      " 'Villarreal' 'Granada' 'Rayo Vallecano' 'Elche' 'Getafe' 'Hercules'\n",
      " 'Tenerife' 'Murcia' 'Alaves' 'Levante' 'Salamanca' 'Sabadell' 'Cadiz'\n",
      " 'Logrones' 'Castellon' 'Albacete' 'Almeria' 'Cordoba' 'Compostela'\n",
      " 'Recreativo' 'Burgos CF' 'Pontevedra' 'Numancia' 'Eibar' 'Arenas'\n",
      " 'Real Burgos' 'Gimnastic' 'Extremadura' 'Merida' 'Alcoyano' 'Jaen'\n",
      " 'Real Union' 'AD Almeria' 'Europa' 'Lleida' 'Leganes' 'Xerez' 'Condal'\n",
      " 'Atletico Tetuan' 'Cultural Leonesa' 'Girona']\n",
      "Seasons\n",
      "['86' '80' '82' '73' '70' '58' '51' '45' '42' '44' '43' '37' '36' '38'\n",
      " '27' '33' '17' '23' '21' '12' '20' '13' '18' '11' '14' '9' '7' '6' '4'\n",
      " '5' '3' '2' '1']\n",
      "Points\n",
      "['4385' '4262' '3442' '3386' '3368' '2819' '2792' '2573' '2109' '1884'\n",
      " '1814' '1789' '1471' '1416' '1389' '1351' '1314' '1174' '1148' '1020'\n",
      " '970' '667' '662' '606' '553' '538' '510' '445' '421' '416' '375' '353'\n",
      " '343' '293' '285' '277' '242' '230' '190' '188' '168' '150' '148' '132'\n",
      " '107' '96' '91' '83' '81' '76' '71' '56' '52' '42' '40' '35' '34' '22'\n",
      " '19' '14' '-']\n",
      "GamesPlayed\n",
      "['2762' '2614' '2664' '2408' '2626' '2302' '1986' '1728' '1530' '1698'\n",
      " '1466' '1428' '1458' '1318' '1255' '1192' '988' '1096' '646' '742' '652'\n",
      " '678' '456' '628' '494' '586' '380' '402' '423' '426' '448' '346' '334'\n",
      " '270' '228' '282' '160' '186' '204' '180' '152' '114' '130' '116' '80'\n",
      " '108' '90' '72' '68' '54' '38' '30' '-']\n",
      "GamesWon\n",
      "['1647' '1581' '1241' '1187' '1209' '990' '948' '864' '698' '606' '563'\n",
      " '586' '463' '453' '471' '426' '390' '408' '333' '367' '266' '218' '189'\n",
      " '203' '147' '184' '155' '145' '125' '113' '123' '129' '104' '96' '103'\n",
      " '76' '62' '82' '52' '50' '59' '53' '37' '35' '43' '26' '34' '20' '19'\n",
      " '30' '29' '21' '17' '18' '13' '8' '7' '5' '-']\n",
      "GamesDrawn\n",
      "['552' '573' '598' '616' '633' '531' '608' '577' '522' '440' '392' '389'\n",
      " '384' '336' '358' '327' '330' '292' '256' '242' '172' '175' '148' '180'\n",
      " '112' '149' '128' '143' '81' '95' '102' '127' '92' '79' '76' '56' '63'\n",
      " '45' '46' '50' '44' '37' '27' '21' '16' '23' '24' '13' '14' '18' '6' '11'\n",
      " '10' '8' '5' '4' '-']\n",
      "GamesLost\n",
      "['563' '608' '775' '861' '920' '887' '1070' '766' '682' '575' '723' '619'\n",
      " '639' '629' '565' '535' '492' '399' '487' '208' '349' '305' '295' '197'\n",
      " '211' '298' '174' '194' '198' '202' '217' '158' '152' '118' '110' '137'\n",
      " '63' '90' '95' '83' '78' '52' '66' '44' '37' '62' '48' '33' '30' '41'\n",
      " '19' '20' '15' '18' '21' '-']\n",
      "GoalsFor\n",
      "['5947' '5900' '4534' '4398' '4631' '3680' '3609' '3228' '2683' '2159'\n",
      " '2052' '2278' '1767' '1843' '1753' '1500' '1421' '1642' '1182' '1347'\n",
      " '892' '819' '760' '750' '520' '716' '619' '607' '458' '430' '422' '492'\n",
      " '393' '291' '419' '320' '244' '285' '199' '202' '216' '165' '155' '139'\n",
      " '227' '101' '181' '62' '70' '145' '121' '153' '71' '97' '36' '38' '37'\n",
      " '51' '34' '-']\n",
      "GoalsAgainst\n",
      "['3140' '3114' '3309' '3469' '3700' '3373' '3889' '3230' '2847' '2492'\n",
      " '2188' '2624' '2180' '2368' '2152' '1834' '1763' '1951' '1371' '1746'\n",
      " '789' '1157' '1088' '1022' '633' '1050' '744' '992' '623' '632' '581'\n",
      " '720' '662' '489' '588' '410' '366' '430' '241' '296' '310' '221' '253'\n",
      " '167' '308' '139' '295' '117' '115' '252' '183' '184' '116' '131' '182'\n",
      " '55' '66' '57' '85' '65' '-']\n",
      "Champion\n",
      "['33' '25' '10' '6' '8' '1' '-' '2']\n",
      "Runner-up\n",
      "['23' '25' '8' '6' '7' '4' '-' '3' '1' '5']\n",
      "Third\n",
      "['8' '12' '16' '10' '4' '2' '-' '1' '3']\n",
      "Fourth\n",
      "['8' '12' '9' '11' '5' '3' '1' '2' '-']\n",
      "Fifth\n",
      "['3' '4' '7' '10' '8' '12' '2' '-' '1']\n",
      "Sixth\n",
      "['4' '6' '7' '10' '5' '3' '1' '2' '-']\n",
      "T\n",
      "['79' '83' '56' '50' '49' '32' '16' '19' '18' '14' '12' '11' '3' '5' '7'\n",
      " '6' '2' '9' '-' '1' '4']\n",
      "Debut\n",
      "['1929' '1931-32' '1934-35' '1939-40' '1932-33' '1941-42' '1948-49'\n",
      " '1944-45' '1935-36' '1949-50' '1933-34' '1960-61' '1951-52' '1998-99'\n",
      " '1977-78' '1959-60' '2004-05' '1961-62' '1940-41' '1930-31' '1963-64'\n",
      " '1974-75' '1943-44' '1987-88' '1991-92' '2007-08' '1962-63' '1994-95'\n",
      " '1978-79' '1971-72' '1999-00' '2014-15' '1990-91' '1947-48' '1996-97'\n",
      " '1995-96' '1945-46' '1953-54' '1979-80' '1950-51' '2016-17' '2009-10'\n",
      " '1956-57' '1955-56' '2017-18']\n",
      "Since/LastApp\n",
      "['1929' '2002-03' '1987-88' '2001-02' '1994-95' '2010-11' '2012-13'\n",
      " '2015-16' '2014-15' '2013-14' '2011-12' '2016-17' '2008-09' '2000-01'\n",
      " '2009-10' '2007-08' '1998-99' '2005-06' '1996-97' '1990-91' '2004-05'\n",
      " '1997-98' '1979-80' '1969-70' '1934-35' '1992-93' '2006-07' '1950-51'\n",
      " '1957-58' '1931-32' '1980-81' '1930-31' '1993-94' '1956-57' '1951-52'\n",
      " '1955-56' '2017-18']\n",
      "BestPosition\n",
      "['1' '3' '2' '4' '6' '8' '5' '11' '7' '12' '10' '17' '9' '19' '14' '16'\n",
      " '20' '15']\n"
     ]
    }
   ],
   "source": [
    "\n",
    "for i in Laliga.columns:\n",
    "    print(i)\n",
    "    print(Laliga[i].unique())"
   ]
  },
  {
   "cell_type": "code",
   "execution_count": 10,
   "metadata": {},
   "outputs": [
    {
     "data": {
      "text/plain": [
       "Index(['Pos', 'Team', 'Seasons', 'Points', 'GamesPlayed', 'GamesWon',\n",
       "       'GamesDrawn', 'GamesLost', 'GoalsFor', 'GoalsAgainst', 'Champion',\n",
       "       'Runner-up', 'Third', 'Fourth', 'Fifth', 'Sixth', 'T', 'Debut',\n",
       "       'Since/LastApp', 'BestPosition'],\n",
       "      dtype='object', name=0)"
      ]
     },
     "execution_count": 10,
     "metadata": {},
     "output_type": "execute_result"
    }
   ],
   "source": [
    "Laliga.columns"
   ]
  },
  {
   "cell_type": "markdown",
   "metadata": {},
   "source": [
    "### Replacing selected columns values of '-' with '0'"
   ]
  },
  {
   "cell_type": "code",
   "execution_count": 11,
   "metadata": {},
   "outputs": [],
   "source": [
    "v=['Points', 'GamesPlayed', 'GamesWon','GamesDrawn', 'GamesLost', 'GoalsFor', 'GoalsAgainst','Champion',  'Runner-up', 'Third', 'Fourth', 'Fifth', 'Sixth', 'T']\n",
    "for i in v:\n",
    "    Laliga[i]=Laliga[i].replace({'-':'0'})"
   ]
  },
  {
   "cell_type": "code",
   "execution_count": 12,
   "metadata": {},
   "outputs": [
    {
     "name": "stdout",
     "output_type": "stream",
     "text": [
      "['4385' '4262' '3442' '3386' '3368' '2819' '2792' '2573' '2109' '1884'\n",
      " '1814' '1789' '1471' '1416' '1389' '1351' '1314' '1174' '1148' '1020'\n",
      " '970' '667' '662' '606' '553' '538' '510' '445' '421' '416' '375' '353'\n",
      " '343' '293' '285' '277' '242' '230' '190' '188' '168' '150' '148' '132'\n",
      " '107' '96' '91' '83' '81' '76' '71' '56' '52' '42' '40' '35' '34' '22'\n",
      " '19' '14' '0']\n",
      "['2762' '2614' '2664' '2408' '2626' '2302' '1986' '1728' '1530' '1698'\n",
      " '1466' '1428' '1458' '1318' '1255' '1192' '988' '1096' '646' '742' '652'\n",
      " '678' '456' '628' '494' '586' '380' '402' '423' '426' '448' '346' '334'\n",
      " '270' '228' '282' '160' '186' '204' '180' '152' '114' '130' '116' '80'\n",
      " '108' '90' '72' '68' '54' '38' '30' '0']\n",
      "['1647' '1581' '1241' '1187' '1209' '990' '948' '864' '698' '606' '563'\n",
      " '586' '463' '453' '471' '426' '390' '408' '333' '367' '266' '218' '189'\n",
      " '203' '147' '184' '155' '145' '125' '113' '123' '129' '104' '96' '103'\n",
      " '76' '62' '82' '52' '50' '59' '53' '37' '35' '43' '26' '34' '20' '19'\n",
      " '30' '29' '21' '17' '18' '13' '8' '7' '5' '0']\n",
      "['552' '573' '598' '616' '633' '531' '608' '577' '522' '440' '392' '389'\n",
      " '384' '336' '358' '327' '330' '292' '256' '242' '172' '175' '148' '180'\n",
      " '112' '149' '128' '143' '81' '95' '102' '127' '92' '79' '76' '56' '63'\n",
      " '45' '46' '50' '44' '37' '27' '21' '16' '23' '24' '13' '14' '18' '6' '11'\n",
      " '10' '8' '5' '4' '0']\n",
      "['563' '608' '775' '861' '920' '887' '1070' '766' '682' '575' '723' '619'\n",
      " '639' '629' '565' '535' '492' '399' '487' '208' '349' '305' '295' '197'\n",
      " '211' '298' '174' '194' '198' '202' '217' '158' '152' '118' '110' '137'\n",
      " '63' '90' '95' '83' '78' '52' '66' '44' '37' '62' '48' '33' '30' '41'\n",
      " '19' '20' '15' '18' '21' '0']\n",
      "['5947' '5900' '4534' '4398' '4631' '3680' '3609' '3228' '2683' '2159'\n",
      " '2052' '2278' '1767' '1843' '1753' '1500' '1421' '1642' '1182' '1347'\n",
      " '892' '819' '760' '750' '520' '716' '619' '607' '458' '430' '422' '492'\n",
      " '393' '291' '419' '320' '244' '285' '199' '202' '216' '165' '155' '139'\n",
      " '227' '101' '181' '62' '70' '145' '121' '153' '71' '97' '36' '38' '37'\n",
      " '51' '34' '0']\n",
      "['3140' '3114' '3309' '3469' '3700' '3373' '3889' '3230' '2847' '2492'\n",
      " '2188' '2624' '2180' '2368' '2152' '1834' '1763' '1951' '1371' '1746'\n",
      " '789' '1157' '1088' '1022' '633' '1050' '744' '992' '623' '632' '581'\n",
      " '720' '662' '489' '588' '410' '366' '430' '241' '296' '310' '221' '253'\n",
      " '167' '308' '139' '295' '117' '115' '252' '183' '184' '116' '131' '182'\n",
      " '55' '66' '57' '85' '65' '0']\n",
      "['33' '25' '10' '6' '8' '1' '0' '2']\n",
      "['23' '25' '8' '6' '7' '4' '0' '3' '1' '5']\n",
      "['8' '12' '16' '10' '4' '2' '0' '1' '3']\n",
      "['8' '12' '9' '11' '5' '3' '1' '2' '0']\n",
      "['3' '4' '7' '10' '8' '12' '2' '0' '1']\n",
      "['4' '6' '7' '10' '5' '3' '1' '2' '0']\n",
      "['79' '83' '56' '50' '49' '32' '16' '19' '18' '14' '12' '11' '3' '5' '7'\n",
      " '6' '2' '9' '0' '1' '4']\n"
     ]
    }
   ],
   "source": [
    "for j in v:\n",
    "    print(Laliga[j].unique())"
   ]
  },
  {
   "cell_type": "markdown",
   "metadata": {},
   "source": [
    "### Converting the datatypes to required formats"
   ]
  },
  {
   "cell_type": "code",
   "execution_count": 13,
   "metadata": {},
   "outputs": [
    {
     "name": "stdout",
     "output_type": "stream",
     "text": [
      "<class 'pandas.core.frame.DataFrame'>\n",
      "RangeIndex: 61 entries, 1 to 61\n",
      "Data columns (total 20 columns):\n",
      "Pos              61 non-null object\n",
      "Team             61 non-null object\n",
      "Seasons          61 non-null object\n",
      "Points           61 non-null object\n",
      "GamesPlayed      61 non-null object\n",
      "GamesWon         61 non-null object\n",
      "GamesDrawn       61 non-null object\n",
      "GamesLost        61 non-null object\n",
      "GoalsFor         61 non-null object\n",
      "GoalsAgainst     61 non-null object\n",
      "Champion         61 non-null object\n",
      "Runner-up        61 non-null object\n",
      "Third            61 non-null object\n",
      "Fourth           61 non-null object\n",
      "Fifth            61 non-null object\n",
      "Sixth            61 non-null object\n",
      "T                61 non-null object\n",
      "Debut            61 non-null object\n",
      "Since/LastApp    61 non-null object\n",
      "BestPosition     61 non-null object\n",
      "dtypes: object(20)\n",
      "memory usage: 9.7+ KB\n"
     ]
    }
   ],
   "source": [
    "Laliga.info()"
   ]
  },
  {
   "cell_type": "code",
   "execution_count": 14,
   "metadata": {},
   "outputs": [],
   "source": [
    "Laliga.columns\n",
    "f=['Pos', 'Seasons', 'Points', 'GamesPlayed', 'GamesWon',\n",
    "       'GamesDrawn', 'GamesLost', 'GoalsFor', 'GoalsAgainst', 'Champion',\n",
    "       'Runner-up', 'Third', 'Fourth', 'Fifth', 'Sixth', 'T', 'BestPosition']\n",
    "for i in f:\n",
    "    Laliga[i]=Laliga[i].astype(float)"
   ]
  },
  {
   "cell_type": "code",
   "execution_count": 15,
   "metadata": {},
   "outputs": [
    {
     "name": "stdout",
     "output_type": "stream",
     "text": [
      "<class 'pandas.core.frame.DataFrame'>\n",
      "RangeIndex: 61 entries, 1 to 61\n",
      "Data columns (total 20 columns):\n",
      "Pos              61 non-null float64\n",
      "Team             61 non-null object\n",
      "Seasons          61 non-null float64\n",
      "Points           61 non-null float64\n",
      "GamesPlayed      61 non-null float64\n",
      "GamesWon         61 non-null float64\n",
      "GamesDrawn       61 non-null float64\n",
      "GamesLost        61 non-null float64\n",
      "GoalsFor         61 non-null float64\n",
      "GoalsAgainst     61 non-null float64\n",
      "Champion         61 non-null float64\n",
      "Runner-up        61 non-null float64\n",
      "Third            61 non-null float64\n",
      "Fourth           61 non-null float64\n",
      "Fifth            61 non-null float64\n",
      "Sixth            61 non-null float64\n",
      "T                61 non-null float64\n",
      "Debut            61 non-null object\n",
      "Since/LastApp    61 non-null object\n",
      "BestPosition     61 non-null float64\n",
      "dtypes: float64(17), object(3)\n",
      "memory usage: 9.7+ KB\n"
     ]
    }
   ],
   "source": [
    "Laliga.info()"
   ]
  },
  {
   "cell_type": "code",
   "execution_count": 16,
   "metadata": {},
   "outputs": [],
   "source": [
    "for i in Laliga['Debut']:\n",
    "    Laliga['Debut']=Laliga['Debut'].replace({i:i[0:4]})\n",
    "    \n",
    "    "
   ]
  },
  {
   "cell_type": "code",
   "execution_count": 17,
   "metadata": {},
   "outputs": [
    {
     "name": "stdout",
     "output_type": "stream",
     "text": [
      "['1929' '1931' '1934' '1939' '1932' '1941' '1948' '1944' '1935' '1949'\n",
      " '1933' '1960' '1951' '1998' '1977' '1959' '2004' '1961' '1940' '1930'\n",
      " '1963' '1974' '1943' '1987' '1991' '2007' '1962' '1994' '1978' '1971'\n",
      " '1999' '2014' '1990' '1947' '1996' '1995' '1945' '1953' '1979' '1950'\n",
      " '2016' '2009' '1956' '1955' '2017']\n"
     ]
    }
   ],
   "source": [
    "print(Laliga['Debut'].unique())"
   ]
  },
  {
   "cell_type": "code",
   "execution_count": 18,
   "metadata": {},
   "outputs": [],
   "source": [
    "Laliga['Debut']=Laliga['Debut'].astype(float)"
   ]
  },
  {
   "cell_type": "markdown",
   "metadata": {},
   "source": [
    "Hence we have done the following changes above-\n",
    "\n",
    "1)'Points', 'GamesPlayed', 'GamesWon','GamesDrawn', 'GamesLost', 'GoalsFor', 'GoalsAgainst','Champion',  'Runner-up', 'Third', 'Fourth', 'Fifth', 'Sixth', 'T'\n",
    "  These columns had '-' symbol and we replaced them with 0 which was the most appropriate replacement considering it is a numeric column & computation with 0 is easier.\n",
    "\n",
    "2) Also we find that we convert most columns with Numbers to float inorder to do computations.\n",
    "\n",
    "3)For ease of calculation,we have converted Debut season to Debut year to take a particular year of debut of the team in Laliga .\n",
    "    Although Laliga is played in season format,year gives the same answer with also easy calculations.\n",
    "\n",
    "Our data is ready to be computed now!!!!"
   ]
  },
  {
   "cell_type": "code",
   "execution_count": 19,
   "metadata": {},
   "outputs": [
    {
     "data": {
      "text/html": [
       "<div>\n",
       "<style scoped>\n",
       "    .dataframe tbody tr th:only-of-type {\n",
       "        vertical-align: middle;\n",
       "    }\n",
       "\n",
       "    .dataframe tbody tr th {\n",
       "        vertical-align: top;\n",
       "    }\n",
       "\n",
       "    .dataframe thead th {\n",
       "        text-align: right;\n",
       "    }\n",
       "</style>\n",
       "<table border=\"1\" class=\"dataframe\">\n",
       "  <thead>\n",
       "    <tr style=\"text-align: right;\">\n",
       "      <th></th>\n",
       "      <th>Team</th>\n",
       "      <th>Debut</th>\n",
       "    </tr>\n",
       "  </thead>\n",
       "  <tbody>\n",
       "    <tr>\n",
       "      <td>29</td>\n",
       "      <td>Alaves</td>\n",
       "      <td>1930.0</td>\n",
       "    </tr>\n",
       "    <tr>\n",
       "      <td>4</td>\n",
       "      <td>Valencia</td>\n",
       "      <td>1931.0</td>\n",
       "    </tr>\n",
       "    <tr>\n",
       "      <td>10</td>\n",
       "      <td>Real Betis</td>\n",
       "      <td>1932.0</td>\n",
       "    </tr>\n",
       "    <tr>\n",
       "      <td>18</td>\n",
       "      <td>Oviedo</td>\n",
       "      <td>1933.0</td>\n",
       "    </tr>\n",
       "    <tr>\n",
       "      <td>6</td>\n",
       "      <td>Sevilla</td>\n",
       "      <td>1934.0</td>\n",
       "    </tr>\n",
       "    <tr>\n",
       "      <td>26</td>\n",
       "      <td>Hercules</td>\n",
       "      <td>1935.0</td>\n",
       "    </tr>\n",
       "    <tr>\n",
       "      <td>16</td>\n",
       "      <td>Osasuna</td>\n",
       "      <td>1935.0</td>\n",
       "    </tr>\n",
       "    <tr>\n",
       "      <td>9</td>\n",
       "      <td>Zaragoza</td>\n",
       "      <td>1939.0</td>\n",
       "    </tr>\n",
       "    <tr>\n",
       "      <td>12</td>\n",
       "      <td>Celta Vigo</td>\n",
       "      <td>1939.0</td>\n",
       "    </tr>\n",
       "    <tr>\n",
       "      <td>28</td>\n",
       "      <td>Murcia</td>\n",
       "      <td>1940.0</td>\n",
       "    </tr>\n",
       "    <tr>\n",
       "      <td>22</td>\n",
       "      <td>Granada</td>\n",
       "      <td>1941.0</td>\n",
       "    </tr>\n",
       "    <tr>\n",
       "      <td>11</td>\n",
       "      <td>Deportivo La Coruna</td>\n",
       "      <td>1941.0</td>\n",
       "    </tr>\n",
       "    <tr>\n",
       "      <td>35</td>\n",
       "      <td>Castellon</td>\n",
       "      <td>1941.0</td>\n",
       "    </tr>\n",
       "    <tr>\n",
       "      <td>32</td>\n",
       "      <td>Sabadell</td>\n",
       "      <td>1943.0</td>\n",
       "    </tr>\n",
       "    <tr>\n",
       "      <td>15</td>\n",
       "      <td>Sporting Gijon</td>\n",
       "      <td>1944.0</td>\n",
       "    </tr>\n",
       "    <tr>\n",
       "      <td>50</td>\n",
       "      <td>Alcoyano</td>\n",
       "      <td>1945.0</td>\n",
       "    </tr>\n",
       "    <tr>\n",
       "      <td>47</td>\n",
       "      <td>Gimnastic</td>\n",
       "      <td>1947.0</td>\n",
       "    </tr>\n",
       "    <tr>\n",
       "      <td>13</td>\n",
       "      <td>Valladolid</td>\n",
       "      <td>1948.0</td>\n",
       "    </tr>\n",
       "    <tr>\n",
       "      <td>17</td>\n",
       "      <td>Malaga</td>\n",
       "      <td>1949.0</td>\n",
       "    </tr>\n",
       "    <tr>\n",
       "      <td>55</td>\n",
       "      <td>Lleida</td>\n",
       "      <td>1950.0</td>\n",
       "    </tr>\n",
       "    <tr>\n",
       "      <td>20</td>\n",
       "      <td>Las Palmas</td>\n",
       "      <td>1951.0</td>\n",
       "    </tr>\n",
       "    <tr>\n",
       "      <td>59</td>\n",
       "      <td>Atletico Tetuan</td>\n",
       "      <td>1951.0</td>\n",
       "    </tr>\n",
       "    <tr>\n",
       "      <td>51</td>\n",
       "      <td>Jaen</td>\n",
       "      <td>1953.0</td>\n",
       "    </tr>\n",
       "    <tr>\n",
       "      <td>60</td>\n",
       "      <td>Cultural Leonesa</td>\n",
       "      <td>1955.0</td>\n",
       "    </tr>\n",
       "    <tr>\n",
       "      <td>58</td>\n",
       "      <td>Condal</td>\n",
       "      <td>1956.0</td>\n",
       "    </tr>\n",
       "    <tr>\n",
       "      <td>24</td>\n",
       "      <td>Elche</td>\n",
       "      <td>1959.0</td>\n",
       "    </tr>\n",
       "    <tr>\n",
       "      <td>19</td>\n",
       "      <td>Mallorca</td>\n",
       "      <td>1960.0</td>\n",
       "    </tr>\n",
       "    <tr>\n",
       "      <td>27</td>\n",
       "      <td>Tenerife</td>\n",
       "      <td>1961.0</td>\n",
       "    </tr>\n",
       "    <tr>\n",
       "      <td>38</td>\n",
       "      <td>Cordoba</td>\n",
       "      <td>1962.0</td>\n",
       "    </tr>\n",
       "    <tr>\n",
       "      <td>30</td>\n",
       "      <td>Levante</td>\n",
       "      <td>1963.0</td>\n",
       "    </tr>\n",
       "    <tr>\n",
       "      <td>42</td>\n",
       "      <td>Pontevedra</td>\n",
       "      <td>1963.0</td>\n",
       "    </tr>\n",
       "    <tr>\n",
       "      <td>41</td>\n",
       "      <td>Burgos CF</td>\n",
       "      <td>1971.0</td>\n",
       "    </tr>\n",
       "    <tr>\n",
       "      <td>31</td>\n",
       "      <td>Salamanca</td>\n",
       "      <td>1974.0</td>\n",
       "    </tr>\n",
       "    <tr>\n",
       "      <td>23</td>\n",
       "      <td>Rayo Vallecano</td>\n",
       "      <td>1977.0</td>\n",
       "    </tr>\n",
       "    <tr>\n",
       "      <td>33</td>\n",
       "      <td>Cadiz</td>\n",
       "      <td>1977.0</td>\n",
       "    </tr>\n",
       "    <tr>\n",
       "      <td>40</td>\n",
       "      <td>Recreativo</td>\n",
       "      <td>1978.0</td>\n",
       "    </tr>\n",
       "    <tr>\n",
       "      <td>53</td>\n",
       "      <td>AD Almeria</td>\n",
       "      <td>1979.0</td>\n",
       "    </tr>\n",
       "  </tbody>\n",
       "</table>\n",
       "</div>"
      ],
      "text/plain": [
       "0                  Team   Debut\n",
       "29               Alaves  1930.0\n",
       "4              Valencia  1931.0\n",
       "10           Real Betis  1932.0\n",
       "18               Oviedo  1933.0\n",
       "6               Sevilla  1934.0\n",
       "26             Hercules  1935.0\n",
       "16              Osasuna  1935.0\n",
       "9              Zaragoza  1939.0\n",
       "12           Celta Vigo  1939.0\n",
       "28               Murcia  1940.0\n",
       "22              Granada  1941.0\n",
       "11  Deportivo La Coruna  1941.0\n",
       "35            Castellon  1941.0\n",
       "32             Sabadell  1943.0\n",
       "15       Sporting Gijon  1944.0\n",
       "50             Alcoyano  1945.0\n",
       "47            Gimnastic  1947.0\n",
       "13           Valladolid  1948.0\n",
       "17               Malaga  1949.0\n",
       "55               Lleida  1950.0\n",
       "20           Las Palmas  1951.0\n",
       "59      Atletico Tetuan  1951.0\n",
       "51                 Jaen  1953.0\n",
       "60     Cultural Leonesa  1955.0\n",
       "58               Condal  1956.0\n",
       "24                Elche  1959.0\n",
       "19             Mallorca  1960.0\n",
       "27             Tenerife  1961.0\n",
       "38              Cordoba  1962.0\n",
       "30              Levante  1963.0\n",
       "42           Pontevedra  1963.0\n",
       "41            Burgos CF  1971.0\n",
       "31            Salamanca  1974.0\n",
       "23       Rayo Vallecano  1977.0\n",
       "33                Cadiz  1977.0\n",
       "40           Recreativo  1978.0\n",
       "53           AD Almeria  1979.0"
      ]
     },
     "execution_count": 19,
     "metadata": {},
     "output_type": "execute_result"
    }
   ],
   "source": [
    "# A)Which are the teams which started playing between 1930-1980?\n",
    "Laliga.head()\n",
    "Laliga[(Laliga['Debut']>1929)&(Laliga['Debut']<1981)][['Team','Debut']].sort_values(by='Debut',ascending=True)"
   ]
  },
  {
   "cell_type": "code",
   "execution_count": 20,
   "metadata": {},
   "outputs": [
    {
     "data": {
      "text/html": [
       "<div>\n",
       "<style scoped>\n",
       "    .dataframe tbody tr th:only-of-type {\n",
       "        vertical-align: middle;\n",
       "    }\n",
       "\n",
       "    .dataframe tbody tr th {\n",
       "        vertical-align: top;\n",
       "    }\n",
       "\n",
       "    .dataframe thead th {\n",
       "        text-align: right;\n",
       "    }\n",
       "</style>\n",
       "<table border=\"1\" class=\"dataframe\">\n",
       "  <thead>\n",
       "    <tr style=\"text-align: right;\">\n",
       "      <th></th>\n",
       "      <th>Team</th>\n",
       "      <th>Points</th>\n",
       "    </tr>\n",
       "  </thead>\n",
       "  <tbody>\n",
       "    <tr>\n",
       "      <td>1</td>\n",
       "      <td>Real Madrid</td>\n",
       "      <td>4385.0</td>\n",
       "    </tr>\n",
       "    <tr>\n",
       "      <td>2</td>\n",
       "      <td>Barcelona</td>\n",
       "      <td>4262.0</td>\n",
       "    </tr>\n",
       "    <tr>\n",
       "      <td>3</td>\n",
       "      <td>Atletico Madrid</td>\n",
       "      <td>3442.0</td>\n",
       "    </tr>\n",
       "    <tr>\n",
       "      <td>4</td>\n",
       "      <td>Valencia</td>\n",
       "      <td>3386.0</td>\n",
       "    </tr>\n",
       "    <tr>\n",
       "      <td>5</td>\n",
       "      <td>Athletic Bilbao</td>\n",
       "      <td>3368.0</td>\n",
       "    </tr>\n",
       "  </tbody>\n",
       "</table>\n",
       "</div>"
      ],
      "text/plain": [
       "0             Team  Points\n",
       "1      Real Madrid  4385.0\n",
       "2        Barcelona  4262.0\n",
       "3  Atletico Madrid  3442.0\n",
       "4         Valencia  3386.0\n",
       "5  Athletic Bilbao  3368.0"
      ]
     },
     "execution_count": 20,
     "metadata": {},
     "output_type": "execute_result"
    }
   ],
   "source": [
    "#B)Which are the top 5 teams in terms of points?\n",
    "Laliga.sort_values(by='Points',ascending=False)[0:5][['Team','Points']]"
   ]
  },
  {
   "cell_type": "code",
   "execution_count": 21,
   "metadata": {},
   "outputs": [],
   "source": [
    "#C)What is the distribution of the winning percentage for all teams? Which teams are in the top 5 in terms of winning percentage? (Winning percentage= (GamesWon / GamesPlayed)*100)\n",
    "Laliga.head()\n",
    "Laliga['Winning_Percentage']=(Laliga['GamesWon']/Laliga['GamesPlayed'])*100"
   ]
  },
  {
   "cell_type": "code",
   "execution_count": 22,
   "metadata": {},
   "outputs": [],
   "source": [
    "## REplacing Nan value with Numeric value for Girona\n",
    "Laliga['Winning_Percentage']=Laliga['Winning_Percentage'].replace({np.nan:0})"
   ]
  },
  {
   "cell_type": "code",
   "execution_count": 23,
   "metadata": {},
   "outputs": [
    {
     "data": {
      "image/png": "[encoded data removed]",
      "text/plain": [
       "<Figure size 1080x360 with 1 Axes>"
      ]
     },
     "metadata": {
      "needs_background": "light"
     },
     "output_type": "display_data"
    }
   ],
   "source": [
    "plt.subplots(figsize=(15,5))\n",
    "sns.distplot(Laliga['Winning_Percentage'])\n",
    "plt.title('Distribution of Winning Percentages for all teams')\n",
    "plt.xlabel('Winning-Percentage(%)')\n",
    "plt.show()"
   ]
  },
  {
   "cell_type": "code",
   "execution_count": 24,
   "metadata": {},
   "outputs": [
    {
     "data": {
      "text/html": [
       "<div>\n",
       "<style scoped>\n",
       "    .dataframe tbody tr th:only-of-type {\n",
       "        vertical-align: middle;\n",
       "    }\n",
       "\n",
       "    .dataframe tbody tr th {\n",
       "        vertical-align: top;\n",
       "    }\n",
       "\n",
       "    .dataframe thead th {\n",
       "        text-align: right;\n",
       "    }\n",
       "</style>\n",
       "<table border=\"1\" class=\"dataframe\">\n",
       "  <thead>\n",
       "    <tr style=\"text-align: right;\">\n",
       "      <th></th>\n",
       "      <th>Team</th>\n",
       "      <th>Winning_Percentage</th>\n",
       "    </tr>\n",
       "  </thead>\n",
       "  <tbody>\n",
       "    <tr>\n",
       "      <td>1</td>\n",
       "      <td>Real Madrid</td>\n",
       "      <td>59.630702</td>\n",
       "    </tr>\n",
       "    <tr>\n",
       "      <td>2</td>\n",
       "      <td>Barcelona</td>\n",
       "      <td>57.241130</td>\n",
       "    </tr>\n",
       "    <tr>\n",
       "      <td>3</td>\n",
       "      <td>Atletico Madrid</td>\n",
       "      <td>47.475134</td>\n",
       "    </tr>\n",
       "    <tr>\n",
       "      <td>4</td>\n",
       "      <td>Valencia</td>\n",
       "      <td>44.557057</td>\n",
       "    </tr>\n",
       "    <tr>\n",
       "      <td>5</td>\n",
       "      <td>Athletic Bilbao</td>\n",
       "      <td>43.772629</td>\n",
       "    </tr>\n",
       "  </tbody>\n",
       "</table>\n",
       "</div>"
      ],
      "text/plain": [
       "0             Team  Winning_Percentage\n",
       "1      Real Madrid           59.630702\n",
       "2        Barcelona           57.241130\n",
       "3  Atletico Madrid           47.475134\n",
       "4         Valencia           44.557057\n",
       "5  Athletic Bilbao           43.772629"
      ]
     },
     "execution_count": 24,
     "metadata": {},
     "output_type": "execute_result"
    }
   ],
   "source": [
    "Top5=Laliga.sort_values(by='Winning_Percentage',ascending=False)[0:5][['Team','Winning_Percentage']]\n",
    "Top5"
   ]
  },
  {
   "cell_type": "code",
   "execution_count": 25,
   "metadata": {},
   "outputs": [
    {
     "data": {
      "image/png": "[encoded data removed]",
      "text/plain": [
       "<Figure size 432x288 with 1 Axes>"
      ]
     },
     "metadata": {
      "needs_background": "light"
     },
     "output_type": "display_data"
    }
   ],
   "source": [
    "sns.barplot(x=Top5['Team'],y=Top5['Winning_Percentage'])\n",
    "plt.title('Top 5 teams in terms of Winning Percentage')\n",
    "plt.show()"
   ]
  },
  {
   "cell_type": "code",
   "execution_count": 26,
   "metadata": {},
   "outputs": [],
   "source": [
    "#D)Is there a significant difference in the winning percentage for teams which have attained a best position between 1-3 and \n",
    "#those teams which have had a best position between 4-7\n",
    "Laliga.head()\n",
    "Top3=Laliga[(Laliga['BestPosition']>=1)&(Laliga['BestPosition']<=3)][['Winning_Percentage','Team','BestPosition']]\n",
    "Top4_7=Laliga[(Laliga['BestPosition']>=4)&(Laliga['BestPosition']<=7)][['Winning_Percentage','Team','BestPosition']]"
   ]
  },
  {
   "cell_type": "code",
   "execution_count": 27,
   "metadata": {},
   "outputs": [
    {
     "data": {
      "text/html": [
       "<div>\n",
       "<style scoped>\n",
       "    .dataframe tbody tr th:only-of-type {\n",
       "        vertical-align: middle;\n",
       "    }\n",
       "\n",
       "    .dataframe tbody tr th {\n",
       "        vertical-align: top;\n",
       "    }\n",
       "\n",
       "    .dataframe thead th {\n",
       "        text-align: right;\n",
       "    }\n",
       "</style>\n",
       "<table border=\"1\" class=\"dataframe\">\n",
       "  <thead>\n",
       "    <tr style=\"text-align: right;\">\n",
       "      <th></th>\n",
       "      <th>Winning_Percentage</th>\n",
       "      <th>Team</th>\n",
       "      <th>BestPosition</th>\n",
       "    </tr>\n",
       "  </thead>\n",
       "  <tbody>\n",
       "    <tr>\n",
       "      <td>1</td>\n",
       "      <td>59.630702</td>\n",
       "      <td>Real Madrid</td>\n",
       "      <td>1.0</td>\n",
       "    </tr>\n",
       "    <tr>\n",
       "      <td>2</td>\n",
       "      <td>57.241130</td>\n",
       "      <td>Barcelona</td>\n",
       "      <td>1.0</td>\n",
       "    </tr>\n",
       "    <tr>\n",
       "      <td>3</td>\n",
       "      <td>47.475134</td>\n",
       "      <td>Atletico Madrid</td>\n",
       "      <td>1.0</td>\n",
       "    </tr>\n",
       "    <tr>\n",
       "      <td>4</td>\n",
       "      <td>44.557057</td>\n",
       "      <td>Valencia</td>\n",
       "      <td>1.0</td>\n",
       "    </tr>\n",
       "    <tr>\n",
       "      <td>5</td>\n",
       "      <td>43.772629</td>\n",
       "      <td>Athletic Bilbao</td>\n",
       "      <td>1.0</td>\n",
       "    </tr>\n",
       "  </tbody>\n",
       "</table>\n",
       "</div>"
      ],
      "text/plain": [
       "0  Winning_Percentage             Team  BestPosition\n",
       "1           59.630702      Real Madrid           1.0\n",
       "2           57.241130        Barcelona           1.0\n",
       "3           47.475134  Atletico Madrid           1.0\n",
       "4           44.557057         Valencia           1.0\n",
       "5           43.772629  Athletic Bilbao           1.0"
      ]
     },
     "execution_count": 27,
     "metadata": {},
     "output_type": "execute_result"
    }
   ],
   "source": [
    "## DataFrame Having Top3 teams as per BestPositions\n",
    "Top3.head()"
   ]
  },
  {
   "cell_type": "code",
   "execution_count": 28,
   "metadata": {},
   "outputs": [
    {
     "data": {
      "text/html": [
       "<div>\n",
       "<style scoped>\n",
       "    .dataframe tbody tr th:only-of-type {\n",
       "        vertical-align: middle;\n",
       "    }\n",
       "\n",
       "    .dataframe tbody tr th {\n",
       "        vertical-align: top;\n",
       "    }\n",
       "\n",
       "    .dataframe thead th {\n",
       "        text-align: right;\n",
       "    }\n",
       "</style>\n",
       "<table border=\"1\" class=\"dataframe\">\n",
       "  <thead>\n",
       "    <tr style=\"text-align: right;\">\n",
       "      <th></th>\n",
       "      <th>Winning_Percentage</th>\n",
       "      <th>Team</th>\n",
       "      <th>BestPosition</th>\n",
       "    </tr>\n",
       "  </thead>\n",
       "  <tbody>\n",
       "    <tr>\n",
       "      <td>12</td>\n",
       "      <td>34.511190</td>\n",
       "      <td>Celta Vigo</td>\n",
       "      <td>4.0</td>\n",
       "    </tr>\n",
       "    <tr>\n",
       "      <td>13</td>\n",
       "      <td>31.582538</td>\n",
       "      <td>Valladolid</td>\n",
       "      <td>4.0</td>\n",
       "    </tr>\n",
       "    <tr>\n",
       "      <td>16</td>\n",
       "      <td>32.321700</td>\n",
       "      <td>Osasuna</td>\n",
       "      <td>4.0</td>\n",
       "    </tr>\n",
       "    <tr>\n",
       "      <td>17</td>\n",
       "      <td>31.075697</td>\n",
       "      <td>Malaga</td>\n",
       "      <td>4.0</td>\n",
       "    </tr>\n",
       "    <tr>\n",
       "      <td>22</td>\n",
       "      <td>29.380054</td>\n",
       "      <td>Granada</td>\n",
       "      <td>6.0</td>\n",
       "    </tr>\n",
       "  </tbody>\n",
       "</table>\n",
       "</div>"
      ],
      "text/plain": [
       "0   Winning_Percentage        Team  BestPosition\n",
       "12           34.511190  Celta Vigo           4.0\n",
       "13           31.582538  Valladolid           4.0\n",
       "16           32.321700     Osasuna           4.0\n",
       "17           31.075697      Malaga           4.0\n",
       "22           29.380054     Granada           6.0"
      ]
     },
     "execution_count": 28,
     "metadata": {},
     "output_type": "execute_result"
    }
   ],
   "source": [
    "## DataFrame Having Top4-7 teams as per BestPositions\n",
    "Top4_7.head()"
   ]
  },
  {
   "cell_type": "markdown",
   "metadata": {},
   "source": [
    "### H0:Null Hypothesis- There is no significant difference between winning percentage of the two types of teams\n",
    "### Ha:Alternate Hypothesis-There is a significant difference between winning percentage of the two types of teams\n"
   ]
  },
  {
   "cell_type": "code",
   "execution_count": 29,
   "metadata": {},
   "outputs": [
    {
     "data": {
      "text/plain": [
       "Ttest_indResult(statistic=4.992715339447283, pvalue=1.5362101870160483e-05)"
      ]
     },
     "execution_count": 29,
     "metadata": {},
     "output_type": "execute_result"
    }
   ],
   "source": [
    "from scipy.stats import ttest_ind\n",
    "stats.ttest_ind(Top3['Winning_Percentage'],Top4_7['Winning_Percentage'])"
   ]
  },
  {
   "cell_type": "markdown",
   "metadata": {},
   "source": [
    "### Hence as we took 5% Level of significance ,we have our pvalue<0.05 we reject our null hypothesis.\n",
    "### Hence we confirm that there is a significant difference in the winning percentage of the teams who have had their Bestposition in 1-3 and teams whose best position lies between 4-7."
   ]
  },
  {
   "cell_type": "markdown",
   "metadata": {},
   "source": [
    "## Ques2\n"
   ]
  },
  {
   "cell_type": "markdown",
   "metadata": {},
   "source": [
    "2. A study was done to measure the blood pressure of 60 year old women with glaucoma. A random sample of 200 60-year old women with glaucoma was chosen. The mean of the systolic blood pressure in the sample was 140 mm Hg and the standard deviation was 25 mm Hg.\n",
    "\n",
    "a)\tCalculate the estimated standard error of the sample mean? What does the standard error indicate?\n",
    "b)\tEstimate a 95% confidence interval for the true mean blood pressure for all 60-year old women with glaucoma.\n",
    "c)\tAssume that instead of 200, a random sample of only 100 60-year old women with glaucoma was chosen. The sample mean and standard deviation estimates are the same as those in the original study. What is the estimated 95% confidence interval for the true mean blood pressure?\n",
    "d)\tWhich of the two above intervals are wider?\n",
    "e)\tExplain in non-technical terms why the estimated standard error of a sample mean tends to decrease with an increase in sample size.\n",
    "\n",
    "\n"
   ]
  },
  {
   "cell_type": "code",
   "execution_count": 30,
   "metadata": {},
   "outputs": [],
   "source": [
    "xbar=140 #Sample mean as per question\n",
    "sigma=25 #Sample standard deviation\n",
    "n=200    # Sample size\n"
   ]
  },
  {
   "cell_type": "code",
   "execution_count": 31,
   "metadata": {},
   "outputs": [
    {
     "name": "stdout",
     "output_type": "stream",
     "text": [
      "Estimated Standard Error= 1.7677669529663687\n"
     ]
    }
   ],
   "source": [
    "##a)\n",
    "Std_Error=sigma/np.sqrt(n)\n",
    "print(\"Estimated Standard Error=\",Std_Error)\n"
   ]
  },
  {
   "cell_type": "markdown",
   "metadata": {},
   "source": [
    "Hence we see that Standard error indicates standard deviation of the Sampling distribution.In Statistical terms,standard error of the mean is the measure of dispersion around population mean"
   ]
  },
  {
   "cell_type": "code",
   "execution_count": 32,
   "metadata": {},
   "outputs": [
    {
     "name": "stdout",
     "output_type": "stream",
     "text": [
      "Hence 95% Confidence Interval of for the true mean blood pressure for all 60-year old women with glaucoma of sample size=200 is \n",
      "(136.5352404391258, 143.4647595608742)\n"
     ]
    }
   ],
   "source": [
    "#B)\n",
    "CI=stats.norm.interval(0.95,loc=xbar,scale=Std_Error)\n",
    "print(\"Hence 95% Confidence Interval of for the true mean blood pressure for all 60-year old women with glaucoma of sample size=200 is \")\n",
    "print(CI)"
   ]
  },
  {
   "cell_type": "code",
   "execution_count": 33,
   "metadata": {},
   "outputs": [
    {
     "name": "stdout",
     "output_type": "stream",
     "text": [
      "Hence 95% Confidence Interval of for the true mean blood pressure for all 60-year old women with glaucoma of sample size=100 is \n",
      "(135.10009003864985, 144.89990996135015)\n"
     ]
    }
   ],
   "source": [
    "#C)\n",
    "n=100# Here we assume that sample size=100 instead of 200\n",
    "xbar=140\n",
    "sigma=25\n",
    "se=sigma/np.sqrt(n)\n",
    "CI_new=stats.norm.interval(0.95,loc=xbar,scale=se)\n",
    "print(\"Hence 95% Confidence Interval of for the true mean blood pressure for all 60-year old women with glaucoma of sample size=100 is \")\n",
    "print(CI_new)"
   ]
  },
  {
   "cell_type": "markdown",
   "metadata": {},
   "source": [
    "D)\n",
    "Comparing Ranges of the 2 Confidence Intervals of Sample size=200 & 100 respectively,we find that the range of Confidence interval of size=100 is wider than size=200."
   ]
  },
  {
   "cell_type": "markdown",
   "metadata": {},
   "source": [
    "E)\n",
    "  Reasons why the estimated standard error of a sample mean tends to decrease with an increase in sample size are:-\n",
    "  \n",
    "    1) According to the Central Limit theorem,if the population distribution is normal and we need to achieve that,\n",
    "    then the sample means of the sampling points are also having a normal distribution.\n",
    "    To achieve that,we need to increase the number of sampling points to achieve that normal distribution.\n",
    "    Hence it is proven that if number of sample points are increased,means \n",
    "    we are able to achieve the data and prediction of the population is easier & more accurate.\n",
    "\n",
    "  2) Secondly,Standard_error=Standard_Deviation/Square_root(Sample size)\n",
    "     Here also we see that if the sample size increases,means the Error reduces significantly.\n",
    "     Here we are more accurately predicting the population values"
   ]
  },
  {
   "cell_type": "markdown",
   "metadata": {},
   "source": [
    "## Ques3"
   ]
  },
  {
   "cell_type": "markdown",
   "metadata": {},
   "source": [
    "3. Par Inc., is a major manufacturer of golf equipment. Management believes that Par’s market share could be increased with the introduction of a cut-resistant, longer-lasting golf ball. Therefore, the research group at Par has been investigating a new golf ball coating designed to resist cuts and provide a more durable ball. The tests with the coating have been promising.\n",
    "\n",
    "One of the researchers voiced concern about the effect of the new coating on driving distances. Par would like the new cut-resistant ball to offer driving distances comparable to those of the current-model golf ball. To compare the driving distances for the two balls, 40 balls of both the new and current models were subjected to distance tests. The testing was performed with a mechanical hitting machine so that any difference between the mean distances for the two models could be attributed to a difference in the design. The results of the tests, with distances measured to the nearest yard, are contained in   the data set “Golf”.\n",
    "\n",
    "1.\tFormulate and present the rationale for a hypothesis test that Par could use to compare the driving distances of the current and new golf balls.\n",
    "2.\tAnalyze the data to provide the hypothesis testing conclusion. What is the p-value for your test? What is your recommendation for Par Inc.?\n",
    "3.\tWhat is the 95% confidence interval for the population mean of each model, and what is the 95% confidence interval for the difference between the means of the two population?\n"
   ]
  },
  {
   "cell_type": "code",
   "execution_count": 34,
   "metadata": {},
   "outputs": [
    {
     "data": {
      "text/html": [
       "<div>\n",
       "<style scoped>\n",
       "    .dataframe tbody tr th:only-of-type {\n",
       "        vertical-align: middle;\n",
       "    }\n",
       "\n",
       "    .dataframe tbody tr th {\n",
       "        vertical-align: top;\n",
       "    }\n",
       "\n",
       "    .dataframe thead th {\n",
       "        text-align: right;\n",
       "    }\n",
       "</style>\n",
       "<table border=\"1\" class=\"dataframe\">\n",
       "  <thead>\n",
       "    <tr style=\"text-align: right;\">\n",
       "      <th></th>\n",
       "      <th>Current</th>\n",
       "      <th>New</th>\n",
       "    </tr>\n",
       "  </thead>\n",
       "  <tbody>\n",
       "    <tr>\n",
       "      <td>0</td>\n",
       "      <td>264</td>\n",
       "      <td>277</td>\n",
       "    </tr>\n",
       "    <tr>\n",
       "      <td>1</td>\n",
       "      <td>261</td>\n",
       "      <td>269</td>\n",
       "    </tr>\n",
       "    <tr>\n",
       "      <td>2</td>\n",
       "      <td>267</td>\n",
       "      <td>263</td>\n",
       "    </tr>\n",
       "    <tr>\n",
       "      <td>3</td>\n",
       "      <td>272</td>\n",
       "      <td>266</td>\n",
       "    </tr>\n",
       "    <tr>\n",
       "      <td>4</td>\n",
       "      <td>258</td>\n",
       "      <td>262</td>\n",
       "    </tr>\n",
       "  </tbody>\n",
       "</table>\n",
       "</div>"
      ],
      "text/plain": [
       "   Current  New\n",
       "0      264  277\n",
       "1      261  269\n",
       "2      267  263\n",
       "3      272  266\n",
       "4      258  262"
      ]
     },
     "execution_count": 34,
     "metadata": {},
     "output_type": "execute_result"
    }
   ],
   "source": [
    "Golf.head()"
   ]
  },
  {
   "cell_type": "code",
   "execution_count": 35,
   "metadata": {},
   "outputs": [
    {
     "name": "stdout",
     "output_type": "stream",
     "text": [
      "<class 'pandas.core.frame.DataFrame'>\n",
      "RangeIndex: 40 entries, 0 to 39\n",
      "Data columns (total 2 columns):\n",
      "Current    40 non-null int64\n",
      "New        40 non-null int64\n",
      "dtypes: int64(2)\n",
      "memory usage: 768.0 bytes\n"
     ]
    }
   ],
   "source": [
    "Golf.info()"
   ]
  },
  {
   "cell_type": "code",
   "execution_count": 36,
   "metadata": {},
   "outputs": [
    {
     "data": {
      "text/html": [
       "<div>\n",
       "<style scoped>\n",
       "    .dataframe tbody tr th:only-of-type {\n",
       "        vertical-align: middle;\n",
       "    }\n",
       "\n",
       "    .dataframe tbody tr th {\n",
       "        vertical-align: top;\n",
       "    }\n",
       "\n",
       "    .dataframe thead th {\n",
       "        text-align: right;\n",
       "    }\n",
       "</style>\n",
       "<table border=\"1\" class=\"dataframe\">\n",
       "  <thead>\n",
       "    <tr style=\"text-align: right;\">\n",
       "      <th></th>\n",
       "      <th>Current</th>\n",
       "      <th>New</th>\n",
       "    </tr>\n",
       "  </thead>\n",
       "  <tbody>\n",
       "    <tr>\n",
       "      <td>count</td>\n",
       "      <td>40.000000</td>\n",
       "      <td>40.000000</td>\n",
       "    </tr>\n",
       "    <tr>\n",
       "      <td>mean</td>\n",
       "      <td>270.275000</td>\n",
       "      <td>267.500000</td>\n",
       "    </tr>\n",
       "    <tr>\n",
       "      <td>std</td>\n",
       "      <td>8.752985</td>\n",
       "      <td>9.896904</td>\n",
       "    </tr>\n",
       "    <tr>\n",
       "      <td>min</td>\n",
       "      <td>255.000000</td>\n",
       "      <td>250.000000</td>\n",
       "    </tr>\n",
       "    <tr>\n",
       "      <td>25%</td>\n",
       "      <td>263.000000</td>\n",
       "      <td>262.000000</td>\n",
       "    </tr>\n",
       "    <tr>\n",
       "      <td>50%</td>\n",
       "      <td>270.000000</td>\n",
       "      <td>265.000000</td>\n",
       "    </tr>\n",
       "    <tr>\n",
       "      <td>75%</td>\n",
       "      <td>275.250000</td>\n",
       "      <td>274.500000</td>\n",
       "    </tr>\n",
       "    <tr>\n",
       "      <td>max</td>\n",
       "      <td>289.000000</td>\n",
       "      <td>289.000000</td>\n",
       "    </tr>\n",
       "  </tbody>\n",
       "</table>\n",
       "</div>"
      ],
      "text/plain": [
       "          Current         New\n",
       "count   40.000000   40.000000\n",
       "mean   270.275000  267.500000\n",
       "std      8.752985    9.896904\n",
       "min    255.000000  250.000000\n",
       "25%    263.000000  262.000000\n",
       "50%    270.000000  265.000000\n",
       "75%    275.250000  274.500000\n",
       "max    289.000000  289.000000"
      ]
     },
     "execution_count": 36,
     "metadata": {},
     "output_type": "execute_result"
    }
   ],
   "source": [
    "Golf.describe()"
   ]
  },
  {
   "cell_type": "code",
   "execution_count": null,
   "metadata": {},
   "outputs": [],
   "source": [
    "#1)Formulate and present the rationale for a hypothesis test that Par could use to compare the driving distances of the current and new golf balls.\n",
    "Ho:Null Hypothesis- The driving distances of the current balls & the new balls is same.Hence no difference among them.\n",
    "Ha:Alternate Hypothesis- Their is significant difference among the driving distances of the current & the new balls."
   ]
  },
  {
   "cell_type": "code",
   "execution_count": 38,
   "metadata": {},
   "outputs": [
    {
     "name": "stdout",
     "output_type": "stream",
     "text": [
      "P-value for the test= 0.20916361823147053\n"
     ]
    }
   ],
   "source": [
    "#2)Analyze the data to provide the hypothesis testing conclusion. What is the p-value for your test? What is your recommendation for Par Inc.?\n",
    "from scipy.stats import ttest_rel\n",
    "s,p=stats.ttest_rel(Golf['Current'],Golf['New'])\n",
    "print('P-value for the test=',p)"
   ]
  },
  {
   "cell_type": "markdown",
   "metadata": {},
   "source": [
    "Hence we see that with 5% significance level,we see that p-value>0.05.Hence we do not have sufficient evidence to reject null hypothesis."
   ]
  },
  {
   "cell_type": "markdown",
   "metadata": {},
   "source": [
    "As Par Inc. would have  liked the new cut-resistant ball to offer driving distances comparable to those of the current-model golf ball,we see the results of coating are fruitful.\n",
    "\n",
    "Firstly,the coating has increased the durability of the new balls,making it more long-lasting.\n",
    "Secondly & more importantly,the distance tests are same of the new balls as compared to the old balls.\n",
    "Meaning although having little extra weight of coating,the distance covered by the golf ball in the golf course is almost same.\n",
    "\n",
    "Hence by statistical tests, we conclude that Par Inc can go ahead with the new balls."
   ]
  },
  {
   "cell_type": "code",
   "execution_count": null,
   "metadata": {},
   "outputs": [],
   "source": [
    "#3)What is the 95% confidence interval for the population mean of each model, \n",
    "#and what is the 95% confidence interval for the difference between the means of the two population?"
   ]
  },
  {
   "cell_type": "markdown",
   "metadata": {},
   "source": [
    "#### 95% confidence interval for Current balls"
   ]
  },
  {
   "cell_type": "code",
   "execution_count": 39,
   "metadata": {},
   "outputs": [
    {
     "name": "stdout",
     "output_type": "stream",
     "text": [
      "95% Confidence Interval of Current balls= (267.47565965314044, 273.0743403468595)\n"
     ]
    }
   ],
   "source": [
    "Mean_current=np.mean(Golf['Current'])\n",
    "SD_current=np.std(Golf['Current'],ddof=1)\n",
    "n=Golf.shape[0]\n",
    "SE_current=(SD_current)/(np.sqrt(n))\n",
    "CI_current=stats.t.interval(0.95,df=n-1,loc=Mean_current,scale=SE_current)\n",
    "print(\"95% Confidence Interval of Current balls=\",CI_current)"
   ]
  },
  {
   "cell_type": "markdown",
   "metadata": {},
   "source": [
    "#### 95% confidence interval of new balls"
   ]
  },
  {
   "cell_type": "code",
   "execution_count": 40,
   "metadata": {},
   "outputs": [
    {
     "name": "stdout",
     "output_type": "stream",
     "text": [
      "95% Confidence Interval of New balls= (264.33481641038986, 270.66518358961014)\n"
     ]
    }
   ],
   "source": [
    "Mean_new=np.mean(Golf['New'])\n",
    "SD_new=np.std(Golf['New'],ddof=1)\n",
    "n=Golf.shape[0]\n",
    "SE_new=(SD_new)/(np.sqrt(n))\n",
    "CI_new=stats.t.interval(0.95,df=n-1,loc=Mean_new,scale=SE_new)\n",
    "print(\"95% Confidence Interval of New balls=\",CI_new)"
   ]
  },
  {
   "cell_type": "markdown",
   "metadata": {},
   "source": [
    "#### 95% confidence interval for the difference between the means of the two population"
   ]
  },
  {
   "cell_type": "code",
   "execution_count": 41,
   "metadata": {},
   "outputs": [
    {
     "name": "stdout",
     "output_type": "stream",
     "text": [
      "95% Confidence Interval of difference between the means of the two population¶= (-7.1705358040563745, 1.620535804056375)\n"
     ]
    }
   ],
   "source": [
    "Mean_diff=np.mean(Golf['New']-Golf['Current'])\n",
    "SD_diff=np.std((Golf['New']-Golf['Current']),ddof=1)\n",
    "n=Golf.shape[0]\n",
    "SE_diff=(SD_diff)/(np.sqrt(n))\n",
    "CI_diff=stats.t.interval(0.95,df=n-1,loc=Mean_diff,scale=SE_diff)\n",
    "print(\"95% Confidence Interval of difference between the means of the two population¶=\",CI_diff)"
   ]
  },
  {
   "cell_type": "markdown",
   "metadata": {},
   "source": [
    "## THE END"
   ]
  },
  {
   "cell_type": "code",
   "execution_count": null,
   "metadata": {},
   "outputs": [],
   "source": []
  }
 ],
 "metadata": {
  "kernelspec": {
   "display_name": "Python 3",
   "language": "python",
   "name": "python3"
  },
  "language_info": {
   "codemirror_mode": {
    "name": "ipython",
    "version": 3
   },
   "file_extension": ".py",
   "mimetype": "text/x-python",
   "name": "python",
   "nbconvert_exporter": "python",
   "pygments_lexer": "ipython3",
   "version": "3.7.4"
  }
 },
 "nbformat": 4,
 "nbformat_minor": 2
}
